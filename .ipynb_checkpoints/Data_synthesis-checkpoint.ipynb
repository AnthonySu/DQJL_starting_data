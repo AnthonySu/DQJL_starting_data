{
 "cells": [
  {
   "cell_type": "code",
   "execution_count": 36,
   "metadata": {},
   "outputs": [],
   "source": [
    "import numpy as np\n",
    "import math \n",
    "import random\n",
    "import matplotlib.pyplot as plt\n",
    "import pandas as pd\n",
    "import time\n",
    "import seaborn as sns\n",
    "sns.set()"
   ]
  },
  {
   "cell_type": "code",
   "execution_count": 39,
   "metadata": {},
   "outputs": [],
   "source": [
    "# Road Length (unit: m)\n",
    "L = 200\n",
    "# Temporal Step Length (unit: s)\n",
    "delta_t = 0.5"
   ]
  },
  {
   "cell_type": "code",
   "execution_count": 40,
   "metadata": {},
   "outputs": [],
   "source": [
    "# Generate number of non-EMVs in the system:\n",
    "def get_number_vehicles():\n",
    "    return np.random.randint(low=5, high=20)\n",
    "\n",
    "# Generate random vehicle length (unit: s)\n",
    "def get_vehicle_length(avg=4.45, std=0.5):\n",
    "    return np.around(np.random.normal(4.45, 0.5),2)\n",
    "\n",
    "def get_starting_velocity(avg=6, std=1.5):\n",
    "    return np.around(np.random.normal(6, 1.5),2)\n",
    "\n",
    "def get_vehicle_type():\n",
    "    # 0: HV, 1: CV\n",
    "    return np.random.randint(2)"
   ]
  },
  {
   "cell_type": "code",
   "execution_count": 56,
   "metadata": {},
   "outputs": [],
   "source": [
    "def generate_road_initial(num_vehicles):\n",
    "    \"\"\"\n",
    "    Generate an initial state for road environment with the following format:\n",
    "    veh i: [veh_index, head_pos, lane_index, length, starting_velocity, Yielding_indicator]\n",
    "    \n",
    "    the default number of vehicles is 10 (5 on the left/5 on the right)\n",
    "    the default labeling convention is 0-4 on the left and 5-9 on the right, according to their starting positions\n",
    "    \"\"\"\n",
    "    res = []\n",
    "    block_len = L/(int(num_vehicles/2))\n",
    "    \n",
    "    # For the upper lane(downstream of the EMV):\n",
    "    block_counter = 0\n",
    "    for i in range(int(num_vehicles/2)):\n",
    "        # we cut the head and tail so starting vehicles won't overlap\n",
    "        floater = np.random.uniform(5, block_len - 5)\n",
    "        starting_pos = block_counter * block_len + floater\n",
    "        vehicle_length = get_vehicle_length()\n",
    "        starting_velocity = get_starting_velocity()\n",
    "        vehicle_type = get_vehicle_type()\n",
    "        \n",
    "        new_vehicle = [block_counter, starting_pos, 0, vehicle_length, starting_velocity, 0, vehicle_type]\n",
    "        res.append(new_vehicle)\n",
    "        block_counter += 1\n",
    "        \n",
    "    # For the lower lane(neighoring lane of the EMV passage)\n",
    "    \n",
    "    for i in range(int(num_vehicles/2)):\n",
    "        floater = floater = np.random.uniform(5, block_len - 5)\n",
    "        starting_pos = (block_counter - int(num_vehicles/2)) * block_len + floater\n",
    "        vehicle_length = get_vehicle_length()\n",
    "        starting_velocity = get_starting_velocity()\n",
    "        vehicle_type = get_vehicle_type()\n",
    "        new_vehicle = [block_counter, starting_pos, 1, vehicle_length, starting_velocity, 0, vehicle_type]\n",
    "        \n",
    "        block_counter += 1\n",
    "        res.append(new_vehicle)\n",
    "    \n",
    "    return res"
   ]
  },
  {
   "cell_type": "code",
   "execution_count": 58,
   "metadata": {},
   "outputs": [
    {
     "name": "stdout",
     "output_type": "stream",
     "text": [
      "A sample road environment is generated as: \n",
      "[[0, 14.279007262221647, 0, 4.15, 7.19, 0, 1], [1, 56.97611148241406, 0, 4.89, 7.68, 0, 1], [2, 89.88365308551374, 0, 3.36, 3.21, 0, 1], [3, 132.94372942927512, 0, 4.06, 6.86, 0, 0], [4, 166.58081423734137, 0, 4.69, 5.98, 0, 0], [5, 26.89834758992263, 1, 4.46, 3.81, 0, 1], [6, 45.89869029133331, 1, 5.42, 7.06, 0, 1], [7, 114.32706971774272, 1, 4.89, 6.61, 0, 1], [8, 130.50205177002815, 1, 4.01, 5.29, 0, 0], [9, 166.061533450301, 1, 4.99, 6.08, 0, 0]]\n"
     ]
    }
   ],
   "source": [
    "# Test a sample road environment\n",
    "print(\"A sample road environment is generated as: \")\n",
    "print(generate_road_initial(get_number_vehicles()))"
   ]
  },
  {
   "cell_type": "code",
   "execution_count": 66,
   "metadata": {},
   "outputs": [],
   "source": [
    "training_set = []\n",
    "for i in range(15000):\n",
    "    new_road_enviroment = generate_road_initial(get_number_vehicles())\n",
    "    for veh in new_road_enviroment:\n",
    "        veh.append(i)\n",
    "        training_set.append(veh)"
   ]
  },
  {
   "cell_type": "code",
   "execution_count": 73,
   "metadata": {},
   "outputs": [],
   "source": [
    "training_dataset = pd.DataFrame(data=training_set, columns = ['Vehicle ID', 'Longitudinal position', 'Lane position', 'Vehicle Length', 'Velocity', 'Yielding Status', 'Vehicle Type', 'Episode index'])"
   ]
  },
  {
   "cell_type": "code",
   "execution_count": 76,
   "metadata": {},
   "outputs": [],
   "source": [
    "training_dataset.to_csv('DQJL_training.csv', index=False)"
   ]
  },
  {
   "cell_type": "code",
   "execution_count": 78,
   "metadata": {},
   "outputs": [
    {
     "data": {
      "text/plain": [
       "<AxesSubplot:>"
      ]
     },
     "execution_count": 78,
     "metadata": {},
     "output_type": "execute_result"
    },
    {
     "data": {
      "image/png": "[encoded data removed]",
      "text/plain": [
       "<Figure size 432x288 with 1 Axes>"
      ]
     },
     "metadata": {},
     "output_type": "display_data"
    }
   ],
   "source": [
    "training_dataset[['Longitudinal position']].plot.box()"
   ]
  },
  {
   "cell_type": "code",
   "execution_count": 79,
   "metadata": {},
   "outputs": [
    {
     "data": {
      "text/plain": [
       "<AxesSubplot:>"
      ]
     },
     "execution_count": 79,
     "metadata": {},
     "output_type": "execute_result"
    },
    {
     "data": {
      "image/png": "[encoded data removed]",
      "text/plain": [
       "<Figure size 432x288 with 1 Axes>"
      ]
     },
     "metadata": {},
     "output_type": "display_data"
    }
   ],
   "source": [
    "training_dataset[['Vehicle Length']].plot.box()"
   ]
  },
  {
   "cell_type": "code",
   "execution_count": 80,
   "metadata": {},
   "outputs": [
    {
     "data": {
      "text/plain": [
       "<AxesSubplot:>"
      ]
     },
     "execution_count": 80,
     "metadata": {},
     "output_type": "execute_result"
    },
    {
     "data": {
      "image/png": "[encoded data removed]",
      "text/plain": [
       "<Figure size 432x288 with 1 Axes>"
      ]
     },
     "metadata": {},
     "output_type": "display_data"
    }
   ],
   "source": [
    "training_dataset[['Velocity']].plot.box()"
   ]
  },
  {
   "cell_type": "code",
   "execution_count": null,
   "metadata": {},
   "outputs": [],
   "source": [
    "training_dataset[['Episode index']]"
   ]
  }
 ],
 "metadata": {
  "kernelspec": {
   "display_name": "Python 3",
   "language": "python",
   "name": "python3"
  },
  "language_info": {
   "codemirror_mode": {
    "name": "ipython",
    "version": 3
   },
   "file_extension": ".py",
   "mimetype": "text/x-python",
   "name": "python",
   "nbconvert_exporter": "python",
   "pygments_lexer": "ipython3",
   "version": "3.8.5"
  }
 },
 "nbformat": 4,
 "nbformat_minor": 4
}
